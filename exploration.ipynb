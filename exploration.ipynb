{
 "cells": [
  {
   "cell_type": "markdown",
   "id": "2099027e",
   "metadata": {},
   "source": [
    "# 📈 Bitcoin Price Data Exploration\n",
    "\n",
    "This notebook performs exploratory data analysis (EDA) on Bitcoin price data, including:\n",
    "- Line plot of historical prices\n",
    "- Seasonal decomposition\n",
    "- Prophet-based forecasting\n",
    "- Anomaly detection\n",
    "- Optional interactive charts with Plotly"
   ]
  },
  {
   "cell_type": "code",
   "execution_count": null,
   "id": "b065310e",
   "metadata": {},
   "outputs": [],
   "source": [
    "# Simulated Example Data (for testing only)\n",
    "import pandas as pd\n",
    "import matplotlib.pyplot as plt\n",
    "from statsmodels.tsa.seasonal import seasonal_decompose\n",
    "\n",
    "# Simulated Data\n",
    "dates = pd.date_range(start='2023-01-01', periods=100, freq='H')\n",
    "prices = 20000 + (pd.Series(range(100)) * 5) + pd.Series(range(100)).apply(lambda x: (x % 10 - 5) * 50)\n",
    "df = pd.DataFrame({'timestamp': dates, 'price': prices})\n",
    "df.set_index('timestamp', inplace=True)\n",
    "df.head()"
   ]
  },
  {
   "cell_type": "code",
   "execution_count": null,
   "id": "cff91ebc",
   "metadata": {},
   "outputs": [],
   "source": [
    "# Load Real Data from S3 if available\n",
    "from processing.preprocess import load_all_btc_data\n",
    "df = load_all_btc_data()\n",
    "df.head()"
   ]
  },
  {
   "cell_type": "code",
   "execution_count": null,
   "id": "963a45bc",
   "metadata": {},
   "outputs": [],
   "source": [
    "# Plot Raw Bitcoin Prices\n",
    "plt.figure(figsize=(10,4))\n",
    "df['price'].plot(title='Bitcoin Price Over Time')\n",
    "plt.xlabel('Timestamp')\n",
    "plt.ylabel('USD')\n",
    "plt.grid(True)\n",
    "plt.show()"
   ]
  },
  {
   "cell_type": "code",
   "execution_count": null,
   "id": "274d7d7f",
   "metadata": {},
   "outputs": [],
   "source": [
    "# Seasonal Decomposition (24-hour pattern)\n",
    "decomposition = seasonal_decompose(df['price'], model='additive', period=24)\n",
    "decomposition.plot();"
   ]
  },
  {
   "cell_type": "code",
   "execution_count": null,
   "id": "6252e3b2",
   "metadata": {},
   "outputs": [],
   "source": [
    "# Prophet Forecasting\n",
    "from prophet import Prophet\n",
    "prophet_df = df.reset_index().rename(columns={'timestamp': 'ds', 'price': 'y'})\n",
    "model = Prophet(daily_seasonality=True)\n",
    "model.fit(prophet_df)\n",
    "future = model.make_future_dataframe(periods=48, freq='H')\n",
    "forecast = model.predict(future)\n",
    "forecast[['ds', 'yhat', 'yhat_lower', 'yhat_upper']].tail()"
   ]
  },
  {
   "cell_type": "code",
   "execution_count": null,
   "id": "f218b064",
   "metadata": {},
   "outputs": [],
   "source": [
    "# Plot Forecast\n",
    "fig1 = model.plot(forecast)"
   ]
  },
  {
   "cell_type": "code",
   "execution_count": null,
   "id": "c58e0bd9",
   "metadata": {},
   "outputs": [],
   "source": [
    "# Anomaly Detection (Simple Z-Score Based)\n",
    "import numpy as np\n",
    "mean = df['price'].mean()\n",
    "std = df['price'].std()\n",
    "df['zscore'] = (df['price'] - mean) / std\n",
    "df['anomaly'] = df['zscore'].abs() > 2\n",
    "df[df['anomaly']].head()"
   ]
  },
  {
   "cell_type": "code",
   "execution_count": null,
   "id": "fd91ef8e",
   "metadata": {},
   "outputs": [],
   "source": [
    "# Plot Anomalies\n",
    "plt.figure(figsize=(10,4))\n",
    "plt.plot(df.index, df['price'], label='Price')\n",
    "plt.scatter(df.index[df['anomaly']], df['price'][df['anomaly']], color='red', label='Anomaly')\n",
    "plt.title('Anomaly Detection')\n",
    "plt.xlabel('Time')\n",
    "plt.ylabel('Price (USD)')\n",
    "plt.legend()\n",
    "plt.grid(True)\n",
    "plt.show()"
   ]
  },
  {
   "cell_type": "code",
   "execution_count": null,
   "id": "8a33068d",
   "metadata": {},
   "outputs": [],
   "source": [
    "\n",
    "# Optional: Plotly Interactive Forecast\n",
    "import plotly.graph_objs as go\n",
    "from plotly.offline import init_notebook_mode, iplot\n",
    "init_notebook_mode(connected=True)\n",
    "\n",
    "fig = go.Figure()\n",
    "fig.add_trace(go.Scatter(x=forecast['ds'], y=forecast['yhat'], mode='lines', name='Forecast'))\n",
    "fig.add_trace(go.Scatter(x=forecast['ds'], y=forecast['yhat_upper'], mode='lines', name='Upper Bound', line=dict(dash='dot')))\n",
    "fig.add_trace(go.Scatter(x=forecast['ds'], y=forecast['yhat_lower'], mode='lines', name='Lower Bound', line=dict(dash='dot'),\n",
    "                         fill='tonexty', fillcolor='rgba(173,216,230,0.2)'))\n",
    "\n",
    "fig.update_layout(title='📈 Forecasted Bitcoin Prices (Plotly)',\n",
    "                  xaxis_title='Time',\n",
    "                  yaxis_title='Predicted Price (USD)',\n",
    "                  template='plotly_white')\n",
    "\n",
    "iplot(fig)"
   ]
  }
 ],
 "metadata": {
  "language_info": {
   "name": "python"
  }
 },
 "nbformat": 4,
 "nbformat_minor": 5
}
